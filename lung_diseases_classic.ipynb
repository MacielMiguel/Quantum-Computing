{
 "cells": [
  {
   "cell_type": "markdown",
   "metadata": {},
   "source": [
    "# Classificação clássica do dataset\n"
   ]
  },
  {
   "cell_type": "markdown",
   "metadata": {},
   "source": [
    "## Análise Exploratória"
   ]
  },
  {
   "cell_type": "code",
   "execution_count": 45,
   "metadata": {},
   "outputs": [],
   "source": [
    "''' Bibliotecas importadas '''\n",
    "import pandas as pd \n",
    "import matplotlib.pyplot as plt \n",
    "import seaborn as sns\n",
    "from sklearn.preprocessing import LabelEncoder\n",
    "from sklearn.preprocessing import StandardScaler\n"
   ]
  },
  {
   "cell_type": "code",
   "execution_count": 46,
   "metadata": {},
   "outputs": [
    {
     "data": {
      "text/html": [
       "<div>\n",
       "<style scoped>\n",
       "    .dataframe tbody tr th:only-of-type {\n",
       "        vertical-align: middle;\n",
       "    }\n",
       "\n",
       "    .dataframe tbody tr th {\n",
       "        vertical-align: top;\n",
       "    }\n",
       "\n",
       "    .dataframe thead th {\n",
       "        text-align: right;\n",
       "    }\n",
       "</style>\n",
       "<table border=\"1\" class=\"dataframe\">\n",
       "  <thead>\n",
       "    <tr style=\"text-align: right;\">\n",
       "      <th></th>\n",
       "      <th>Age</th>\n",
       "      <th>Gender</th>\n",
       "      <th>Smoking Status</th>\n",
       "      <th>Lung Capacity</th>\n",
       "      <th>Disease Type</th>\n",
       "      <th>Treatment Type</th>\n",
       "      <th>Hospital Visits</th>\n",
       "      <th>Recovered</th>\n",
       "    </tr>\n",
       "  </thead>\n",
       "  <tbody>\n",
       "    <tr>\n",
       "      <th>0</th>\n",
       "      <td>71.0</td>\n",
       "      <td>Female</td>\n",
       "      <td>No</td>\n",
       "      <td>4.49</td>\n",
       "      <td>COPD</td>\n",
       "      <td>Therapy</td>\n",
       "      <td>14.0</td>\n",
       "      <td>Yes</td>\n",
       "    </tr>\n",
       "    <tr>\n",
       "      <th>1</th>\n",
       "      <td>34.0</td>\n",
       "      <td>Female</td>\n",
       "      <td>Yes</td>\n",
       "      <td>NaN</td>\n",
       "      <td>Bronchitis</td>\n",
       "      <td>Surgery</td>\n",
       "      <td>7.0</td>\n",
       "      <td>No</td>\n",
       "    </tr>\n",
       "    <tr>\n",
       "      <th>2</th>\n",
       "      <td>80.0</td>\n",
       "      <td>Male</td>\n",
       "      <td>Yes</td>\n",
       "      <td>1.95</td>\n",
       "      <td>COPD</td>\n",
       "      <td>NaN</td>\n",
       "      <td>4.0</td>\n",
       "      <td>Yes</td>\n",
       "    </tr>\n",
       "    <tr>\n",
       "      <th>3</th>\n",
       "      <td>40.0</td>\n",
       "      <td>Female</td>\n",
       "      <td>Yes</td>\n",
       "      <td>NaN</td>\n",
       "      <td>Bronchitis</td>\n",
       "      <td>Medication</td>\n",
       "      <td>1.0</td>\n",
       "      <td>No</td>\n",
       "    </tr>\n",
       "    <tr>\n",
       "      <th>4</th>\n",
       "      <td>43.0</td>\n",
       "      <td>Male</td>\n",
       "      <td>Yes</td>\n",
       "      <td>4.60</td>\n",
       "      <td>COPD</td>\n",
       "      <td>Surgery</td>\n",
       "      <td>NaN</td>\n",
       "      <td>Yes</td>\n",
       "    </tr>\n",
       "    <tr>\n",
       "      <th>...</th>\n",
       "      <td>...</td>\n",
       "      <td>...</td>\n",
       "      <td>...</td>\n",
       "      <td>...</td>\n",
       "      <td>...</td>\n",
       "      <td>...</td>\n",
       "      <td>...</td>\n",
       "      <td>...</td>\n",
       "    </tr>\n",
       "    <tr>\n",
       "      <th>5195</th>\n",
       "      <td>40.0</td>\n",
       "      <td>Male</td>\n",
       "      <td>No</td>\n",
       "      <td>1.43</td>\n",
       "      <td>Lung Cancer</td>\n",
       "      <td>Medication</td>\n",
       "      <td>1.0</td>\n",
       "      <td>Yes</td>\n",
       "    </tr>\n",
       "    <tr>\n",
       "      <th>5196</th>\n",
       "      <td>21.0</td>\n",
       "      <td>NaN</td>\n",
       "      <td>Yes</td>\n",
       "      <td>1.50</td>\n",
       "      <td>COPD</td>\n",
       "      <td>Medication</td>\n",
       "      <td>4.0</td>\n",
       "      <td>No</td>\n",
       "    </tr>\n",
       "    <tr>\n",
       "      <th>5197</th>\n",
       "      <td>42.0</td>\n",
       "      <td>Female</td>\n",
       "      <td>No</td>\n",
       "      <td>5.53</td>\n",
       "      <td>Pneumonia</td>\n",
       "      <td>Surgery</td>\n",
       "      <td>5.0</td>\n",
       "      <td>No</td>\n",
       "    </tr>\n",
       "    <tr>\n",
       "      <th>5198</th>\n",
       "      <td>82.0</td>\n",
       "      <td>Male</td>\n",
       "      <td>No</td>\n",
       "      <td>3.68</td>\n",
       "      <td>Bronchitis</td>\n",
       "      <td>Medication</td>\n",
       "      <td>9.0</td>\n",
       "      <td>No</td>\n",
       "    </tr>\n",
       "    <tr>\n",
       "      <th>5199</th>\n",
       "      <td>45.0</td>\n",
       "      <td>Female</td>\n",
       "      <td>Yes</td>\n",
       "      <td>3.79</td>\n",
       "      <td>Pneumonia</td>\n",
       "      <td>Medication</td>\n",
       "      <td>10.0</td>\n",
       "      <td>Yes</td>\n",
       "    </tr>\n",
       "  </tbody>\n",
       "</table>\n",
       "<p>5200 rows × 8 columns</p>\n",
       "</div>"
      ],
      "text/plain": [
       "       Age  Gender Smoking Status  Lung Capacity Disease Type Treatment Type  \\\n",
       "0     71.0  Female             No           4.49         COPD        Therapy   \n",
       "1     34.0  Female            Yes            NaN   Bronchitis        Surgery   \n",
       "2     80.0    Male            Yes           1.95         COPD            NaN   \n",
       "3     40.0  Female            Yes            NaN   Bronchitis     Medication   \n",
       "4     43.0    Male            Yes           4.60         COPD        Surgery   \n",
       "...    ...     ...            ...            ...          ...            ...   \n",
       "5195  40.0    Male             No           1.43  Lung Cancer     Medication   \n",
       "5196  21.0     NaN            Yes           1.50         COPD     Medication   \n",
       "5197  42.0  Female             No           5.53    Pneumonia        Surgery   \n",
       "5198  82.0    Male             No           3.68   Bronchitis     Medication   \n",
       "5199  45.0  Female            Yes           3.79    Pneumonia     Medication   \n",
       "\n",
       "      Hospital Visits Recovered  \n",
       "0                14.0       Yes  \n",
       "1                 7.0        No  \n",
       "2                 4.0       Yes  \n",
       "3                 1.0        No  \n",
       "4                 NaN       Yes  \n",
       "...               ...       ...  \n",
       "5195              1.0       Yes  \n",
       "5196              4.0        No  \n",
       "5197              5.0        No  \n",
       "5198              9.0        No  \n",
       "5199             10.0       Yes  \n",
       "\n",
       "[5200 rows x 8 columns]"
      ]
     },
     "execution_count": 46,
     "metadata": {},
     "output_type": "execute_result"
    }
   ],
   "source": [
    "''' Importação do dataset '''  \n",
    "df = pd.read_csv('lung_disease_data.csv')\n",
    "df"
   ]
  },
  {
   "cell_type": "code",
   "execution_count": 47,
   "metadata": {},
   "outputs": [
    {
     "name": "stdout",
     "output_type": "stream",
     "text": [
      "<class 'pandas.core.frame.DataFrame'>\n",
      "RangeIndex: 5200 entries, 0 to 5199\n",
      "Data columns (total 8 columns):\n",
      " #   Column           Non-Null Count  Dtype  \n",
      "---  ------           --------------  -----  \n",
      " 0   Age              4900 non-null   float64\n",
      " 1   Gender           4900 non-null   object \n",
      " 2   Smoking Status   4900 non-null   object \n",
      " 3   Lung Capacity    4900 non-null   float64\n",
      " 4   Disease Type     4900 non-null   object \n",
      " 5   Treatment Type   4900 non-null   object \n",
      " 6   Hospital Visits  4900 non-null   float64\n",
      " 7   Recovered        4900 non-null   object \n",
      "dtypes: float64(3), object(5)\n",
      "memory usage: 325.1+ KB\n",
      "\n",
      "Valores nulos:\n",
      "Age                300\n",
      "Gender             300\n",
      "Smoking Status     300\n",
      "Lung Capacity      300\n",
      "Disease Type       300\n",
      "Treatment Type     300\n",
      "Hospital Visits    300\n",
      "Recovered          300\n",
      "dtype: int64\n"
     ]
    }
   ],
   "source": [
    "''' Análise exploratória dos dados '''\n",
    "df.info()\n",
    "df.head()\n",
    "print(f\"\\nValores nulos:\\n{df.isnull().sum()}\")"
   ]
  },
  {
   "cell_type": "code",
   "execution_count": 48,
   "metadata": {},
   "outputs": [
    {
     "name": "stdout",
     "output_type": "stream",
     "text": [
      "Preenchimento da coluna Age com os valores médios 54.0\n",
      "Preenchimento da coluna Lung Capacity com os valores médios 3.48\n",
      "Preenchimento da coluna Hospital Visits com os valores médios 8.0\n",
      "Preenchimento da coluna Gender com a moda dos valores 'Female'\n",
      "Preenchimento da coluna Smoking Status com a moda dos valores 'Yes'\n",
      "Preenchimento da coluna Disease Type com a moda dos valores 'Bronchitis'\n",
      "Preenchimento da coluna Treatment Type com a moda dos valores 'Medication'\n",
      "Preenchimento da coluna Recovered com a moda dos valores 'Yes'\n",
      "\n",
      "Missing values após tratamento:\n"
     ]
    },
    {
     "name": "stderr",
     "output_type": "stream",
     "text": [
      "/tmp/ipykernel_124656/777224707.py:9: FutureWarning: A value is trying to be set on a copy of a DataFrame or Series through chained assignment using an inplace method.\n",
      "The behavior will change in pandas 3.0. This inplace method will never work because the intermediate object on which we are setting values always behaves as a copy.\n",
      "\n",
      "For example, when doing 'df[col].method(value, inplace=True)', try using 'df.method({col: value}, inplace=True)' or df[col] = df[col].method(value) instead, to perform the operation inplace on the original object.\n",
      "\n",
      "\n",
      "  df[col].fillna(median_val, inplace=True)\n",
      "/tmp/ipykernel_124656/777224707.py:9: FutureWarning: A value is trying to be set on a copy of a DataFrame or Series through chained assignment using an inplace method.\n",
      "The behavior will change in pandas 3.0. This inplace method will never work because the intermediate object on which we are setting values always behaves as a copy.\n",
      "\n",
      "For example, when doing 'df[col].method(value, inplace=True)', try using 'df.method({col: value}, inplace=True)' or df[col] = df[col].method(value) instead, to perform the operation inplace on the original object.\n",
      "\n",
      "\n",
      "  df[col].fillna(median_val, inplace=True)\n",
      "/tmp/ipykernel_124656/777224707.py:9: FutureWarning: A value is trying to be set on a copy of a DataFrame or Series through chained assignment using an inplace method.\n",
      "The behavior will change in pandas 3.0. This inplace method will never work because the intermediate object on which we are setting values always behaves as a copy.\n",
      "\n",
      "For example, when doing 'df[col].method(value, inplace=True)', try using 'df.method({col: value}, inplace=True)' or df[col] = df[col].method(value) instead, to perform the operation inplace on the original object.\n",
      "\n",
      "\n",
      "  df[col].fillna(median_val, inplace=True)\n",
      "/tmp/ipykernel_124656/777224707.py:16: FutureWarning: A value is trying to be set on a copy of a DataFrame or Series through chained assignment using an inplace method.\n",
      "The behavior will change in pandas 3.0. This inplace method will never work because the intermediate object on which we are setting values always behaves as a copy.\n",
      "\n",
      "For example, when doing 'df[col].method(value, inplace=True)', try using 'df.method({col: value}, inplace=True)' or df[col] = df[col].method(value) instead, to perform the operation inplace on the original object.\n",
      "\n",
      "\n",
      "  df[col].fillna(mode_val, inplace=True)\n"
     ]
    },
    {
     "data": {
      "text/plain": [
       "Age                0\n",
       "Lung Capacity      0\n",
       "Hospital Visits    0\n",
       "Gender             0\n",
       "Smoking Status     0\n",
       "Disease Type       0\n",
       "Treatment Type     0\n",
       "Recovered          0\n",
       "dtype: int64"
      ]
     },
     "metadata": {},
     "output_type": "display_data"
    }
   ],
   "source": [
    "# Separação dos valores numéricos e categóricos para cleaning e tratamento de NaN's\n",
    "numeric_cols = ['Age', 'Lung Capacity', 'Hospital Visits']\n",
    "categorical_cols = ['Gender', 'Smoking Status', 'Disease Type', 'Treatment Type', 'Recovered']\n",
    "\n",
    "# Tratamento dos valores numéricos\n",
    "for col in numeric_cols:\n",
    "    if df[col].isnull().sum() > 0:\n",
    "        median_val = df[col].median()\n",
    "        df[col].fillna(median_val, inplace=True)\n",
    "        print(f\"Preenchimento da coluna {col} com os valores médios {median_val}\")\n",
    "\n",
    "# Tratamento dos valores categóricos\n",
    "for col in categorical_cols:\n",
    "    if df[col].isnull().sum() > 0:\n",
    "        mode_val = df[col].mode()[0]\n",
    "        df[col].fillna(mode_val, inplace=True)\n",
    "        print(f\"Preenchimento da coluna {col} com a moda dos valores '{mode_val}'\")\n",
    "\n",
    "# Nova checagem sobre valores faltantes\n",
    "print('\\nMissing values após tratamento:')\n",
    "display(df[numeric_cols + categorical_cols].isnull().sum())"
   ]
  },
  {
   "cell_type": "code",
   "execution_count": 49,
   "metadata": {},
   "outputs": [
    {
     "data": {
      "text/html": [
       "<div>\n",
       "<style scoped>\n",
       "    .dataframe tbody tr th:only-of-type {\n",
       "        vertical-align: middle;\n",
       "    }\n",
       "\n",
       "    .dataframe tbody tr th {\n",
       "        vertical-align: top;\n",
       "    }\n",
       "\n",
       "    .dataframe thead th {\n",
       "        text-align: right;\n",
       "    }\n",
       "</style>\n",
       "<table border=\"1\" class=\"dataframe\">\n",
       "  <thead>\n",
       "    <tr style=\"text-align: right;\">\n",
       "      <th></th>\n",
       "      <th>Age</th>\n",
       "      <th>Gender</th>\n",
       "      <th>Smoking Status</th>\n",
       "      <th>Lung Capacity</th>\n",
       "      <th>Disease Type</th>\n",
       "      <th>Treatment Type</th>\n",
       "      <th>Hospital Visits</th>\n",
       "      <th>Recovered</th>\n",
       "    </tr>\n",
       "  </thead>\n",
       "  <tbody>\n",
       "    <tr>\n",
       "      <th>0</th>\n",
       "      <td>71.0</td>\n",
       "      <td>0</td>\n",
       "      <td>0</td>\n",
       "      <td>4.49</td>\n",
       "      <td>2</td>\n",
       "      <td>2</td>\n",
       "      <td>14.0</td>\n",
       "      <td>1</td>\n",
       "    </tr>\n",
       "    <tr>\n",
       "      <th>1</th>\n",
       "      <td>34.0</td>\n",
       "      <td>0</td>\n",
       "      <td>1</td>\n",
       "      <td>3.48</td>\n",
       "      <td>1</td>\n",
       "      <td>1</td>\n",
       "      <td>7.0</td>\n",
       "      <td>0</td>\n",
       "    </tr>\n",
       "    <tr>\n",
       "      <th>2</th>\n",
       "      <td>80.0</td>\n",
       "      <td>1</td>\n",
       "      <td>1</td>\n",
       "      <td>1.95</td>\n",
       "      <td>2</td>\n",
       "      <td>0</td>\n",
       "      <td>4.0</td>\n",
       "      <td>1</td>\n",
       "    </tr>\n",
       "    <tr>\n",
       "      <th>3</th>\n",
       "      <td>40.0</td>\n",
       "      <td>0</td>\n",
       "      <td>1</td>\n",
       "      <td>3.48</td>\n",
       "      <td>1</td>\n",
       "      <td>0</td>\n",
       "      <td>1.0</td>\n",
       "      <td>0</td>\n",
       "    </tr>\n",
       "    <tr>\n",
       "      <th>4</th>\n",
       "      <td>43.0</td>\n",
       "      <td>1</td>\n",
       "      <td>1</td>\n",
       "      <td>4.60</td>\n",
       "      <td>2</td>\n",
       "      <td>1</td>\n",
       "      <td>8.0</td>\n",
       "      <td>1</td>\n",
       "    </tr>\n",
       "    <tr>\n",
       "      <th>...</th>\n",
       "      <td>...</td>\n",
       "      <td>...</td>\n",
       "      <td>...</td>\n",
       "      <td>...</td>\n",
       "      <td>...</td>\n",
       "      <td>...</td>\n",
       "      <td>...</td>\n",
       "      <td>...</td>\n",
       "    </tr>\n",
       "    <tr>\n",
       "      <th>5195</th>\n",
       "      <td>40.0</td>\n",
       "      <td>1</td>\n",
       "      <td>0</td>\n",
       "      <td>1.43</td>\n",
       "      <td>3</td>\n",
       "      <td>0</td>\n",
       "      <td>1.0</td>\n",
       "      <td>1</td>\n",
       "    </tr>\n",
       "    <tr>\n",
       "      <th>5196</th>\n",
       "      <td>21.0</td>\n",
       "      <td>0</td>\n",
       "      <td>1</td>\n",
       "      <td>1.50</td>\n",
       "      <td>2</td>\n",
       "      <td>0</td>\n",
       "      <td>4.0</td>\n",
       "      <td>0</td>\n",
       "    </tr>\n",
       "    <tr>\n",
       "      <th>5197</th>\n",
       "      <td>42.0</td>\n",
       "      <td>0</td>\n",
       "      <td>0</td>\n",
       "      <td>5.53</td>\n",
       "      <td>4</td>\n",
       "      <td>1</td>\n",
       "      <td>5.0</td>\n",
       "      <td>0</td>\n",
       "    </tr>\n",
       "    <tr>\n",
       "      <th>5198</th>\n",
       "      <td>82.0</td>\n",
       "      <td>1</td>\n",
       "      <td>0</td>\n",
       "      <td>3.68</td>\n",
       "      <td>1</td>\n",
       "      <td>0</td>\n",
       "      <td>9.0</td>\n",
       "      <td>0</td>\n",
       "    </tr>\n",
       "    <tr>\n",
       "      <th>5199</th>\n",
       "      <td>45.0</td>\n",
       "      <td>0</td>\n",
       "      <td>1</td>\n",
       "      <td>3.79</td>\n",
       "      <td>4</td>\n",
       "      <td>0</td>\n",
       "      <td>10.0</td>\n",
       "      <td>1</td>\n",
       "    </tr>\n",
       "  </tbody>\n",
       "</table>\n",
       "<p>5200 rows × 8 columns</p>\n",
       "</div>"
      ],
      "text/plain": [
       "       Age  Gender  Smoking Status  Lung Capacity  Disease Type  \\\n",
       "0     71.0       0               0           4.49             2   \n",
       "1     34.0       0               1           3.48             1   \n",
       "2     80.0       1               1           1.95             2   \n",
       "3     40.0       0               1           3.48             1   \n",
       "4     43.0       1               1           4.60             2   \n",
       "...    ...     ...             ...            ...           ...   \n",
       "5195  40.0       1               0           1.43             3   \n",
       "5196  21.0       0               1           1.50             2   \n",
       "5197  42.0       0               0           5.53             4   \n",
       "5198  82.0       1               0           3.68             1   \n",
       "5199  45.0       0               1           3.79             4   \n",
       "\n",
       "      Treatment Type  Hospital Visits  Recovered  \n",
       "0                  2             14.0          1  \n",
       "1                  1              7.0          0  \n",
       "2                  0              4.0          1  \n",
       "3                  0              1.0          0  \n",
       "4                  1              8.0          1  \n",
       "...              ...              ...        ...  \n",
       "5195               0              1.0          1  \n",
       "5196               0              4.0          0  \n",
       "5197               1              5.0          0  \n",
       "5198               0              9.0          0  \n",
       "5199               0             10.0          1  \n",
       "\n",
       "[5200 rows x 8 columns]"
      ]
     },
     "execution_count": 49,
     "metadata": {},
     "output_type": "execute_result"
    }
   ],
   "source": [
    "# Encoding das variáveis categóricas\n",
    "for col in categorical_cols:\n",
    "    df[col] = LabelEncoder().fit_transform(df[col])\n",
    "\n",
    "df"
   ]
  },
  {
   "cell_type": "markdown",
   "metadata": {},
   "source": [
    "Resultado do label encoding gera:\n",
    "\n",
    "> Gender: {Female - 0, Male - 1}\n",
    "\n",
    "> Smoking Status: {No - 0, Yes - 1}\n",
    "\n",
    "> Disease type: {Asthma - 0, COPD - 1, Bronchitis - 2, Lung Cancer - 3, Pneumonia - 4}\n",
    "\n",
    "> Treatment type: {Medication - 0, Surgery - 1, Therapy - 2}\n",
    "\n",
    "> Recovered: {No - 0, Yes - 1}\n",
    "\n",
    "\n"
   ]
  },
  {
   "cell_type": "code",
   "execution_count": 50,
   "metadata": {},
   "outputs": [
    {
     "data": {
      "text/plain": [
       "<Axes: >"
      ]
     },
     "execution_count": 50,
     "metadata": {},
     "output_type": "execute_result"
    },
    {
     "data": {
      "image/png": "[encoded data removed]",
      "text/plain": [
       "<Figure size 1000x600 with 2 Axes>"
      ]
     },
     "metadata": {},
     "output_type": "display_data"
    }
   ],
   "source": [
    "corr = df.corr()\n",
    "plt.figure(figsize=(10, 6))\n",
    "sns.heatmap(corr, annot=True, cmap='coolwarm')"
   ]
  },
  {
   "cell_type": "markdown",
   "metadata": {},
   "source": [
    "Dados sem correlação, estão praticamente todos independentes entre si"
   ]
  },
  {
   "cell_type": "markdown",
   "metadata": {},
   "source": [
    "## Aplicação de métodos de classificação"
   ]
  },
  {
   "cell_type": "code",
   "execution_count": null,
   "metadata": {},
   "outputs": [],
   "source": [
    "from sklearn.model_selection import train_test_split\n",
    "from sklearn import metrics\n",
    "from sklearn.linear_model import LogisticRegression\n",
    "from sklearn.ensemble import RandomForestClassifier\n",
    "from sklearn.svm import SVC\n",
    "\n",
    "# Separação dos dados para trein e teste\n",
    "y = df['Recovered'] \n",
    "X = df.drop('Recovered', axis=1)\n",
    "\n",
    "X_train, X_test, y_train, y_test = train_test_split(X, y, test_size=0.2, random_state=42)"
   ]
  },
  {
   "cell_type": "markdown",
   "metadata": {},
   "source": [
    "1 - Regressão Logística:"
   ]
  },
  {
   "cell_type": "code",
   "execution_count": null,
   "metadata": {},
   "outputs": [
    {
     "name": "stdout",
     "output_type": "stream",
     "text": [
      "Acurácia: 0.5557692307692308\n",
      "Precision: 0.5650364203954215\n",
      "Recall: 0.9250425894378195\n",
      "F1: 0.7015503875968992\n"
     ]
    }
   ],
   "source": [
    "# Padronização dos dados para LR\n",
    "scaler = StandardScaler()\n",
    "X_train_pad = scaler.fit_transform(X_train)\n",
    "X_test_pad = scaler.transform(X_test)\n",
    "\n",
    "# Treinamento e aplicação do modelo\n",
    "lr_model = LogisticRegression()\n",
    "lr_model.fit(X_train_pad, y_train)\n",
    "y_pred = lr_model.predict(X_test_pad)\n",
    "\n",
    "print(f\"Acurácia: {metrics.accuracy_score(y_test, y_pred)}\")\n",
    "print(f\"Precision: {metrics.precision_score(y_test, y_pred)}\")\n",
    "print(f\"Recall: {metrics.recall_score(y_test, y_pred)}\")\n",
    "print(f\"F1: {metrics.f1_score(y_test, y_pred)}\")"
   ]
  },
  {
   "cell_type": "markdown",
   "metadata": {},
   "source": [
    "2 - Random Forest Classifier"
   ]
  },
  {
   "cell_type": "code",
   "execution_count": 65,
   "metadata": {},
   "outputs": [
    {
     "name": "stdout",
     "output_type": "stream",
     "text": [
      "Acurácia: 0.5355769230769231\n",
      "Precision: 0.588135593220339\n",
      "Recall: 0.5911413969335605\n",
      "F1: 0.5896346644010195\n"
     ]
    }
   ],
   "source": [
    "rf_model = RandomForestClassifier()\n",
    "rf_model.fit(X_train, y_train)\n",
    "y_pred = rf_model.predict(X_test)\n",
    "\n",
    "print(f\"Acurácia: {metrics.accuracy_score(y_test, y_pred)}\")\n",
    "print(f\"Precision: {metrics.precision_score(y_test, y_pred)}\")\n",
    "print(f\"Recall: {metrics.recall_score(y_test, y_pred)}\")\n",
    "print(f\"F1: {metrics.f1_score(y_test, y_pred)}\")"
   ]
  },
  {
   "cell_type": "markdown",
   "metadata": {},
   "source": [
    "3 - SVC"
   ]
  },
  {
   "cell_type": "code",
   "execution_count": 67,
   "metadata": {},
   "outputs": [
    {
     "name": "stdout",
     "output_type": "stream",
     "text": [
      "Acurácia: 0.5134615384615384\n",
      "Precision: 0.5523932729624839\n",
      "Recall: 0.727427597955707\n",
      "F1: 0.6279411764705882\n"
     ]
    }
   ],
   "source": [
    "svc_model = SVC()\n",
    "svc_model.fit(X_train_pad, y_train)\n",
    "y_pred = svc_model.predict(X_test_pad)\n",
    "\n",
    "print(f\"Acurácia: {metrics.accuracy_score(y_test, y_pred)}\")\n",
    "print(f\"Precision: {metrics.precision_score(y_test, y_pred)}\")\n",
    "print(f\"Recall: {metrics.recall_score(y_test, y_pred)}\")\n",
    "print(f\"F1: {metrics.f1_score(y_test, y_pred)}\")"
   ]
  }
 ],
 "metadata": {
  "kernelspec": {
   "display_name": ".qml",
   "language": "python",
   "name": "python3"
  },
  "language_info": {
   "codemirror_mode": {
    "name": "ipython",
    "version": 3
   },
   "file_extension": ".py",
   "mimetype": "text/x-python",
   "name": "python",
   "nbconvert_exporter": "python",
   "pygments_lexer": "ipython3",
   "version": "3.12.3"
  }
 },
 "nbformat": 4,
 "nbformat_minor": 2
}
