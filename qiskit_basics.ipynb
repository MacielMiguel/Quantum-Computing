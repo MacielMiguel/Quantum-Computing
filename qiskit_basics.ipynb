{
 "cells": [
  {
   "cell_type": "code",
   "execution_count": 15,
   "metadata": {},
   "outputs": [],
   "source": [
    "import qiskit as qkt\n",
    "import numpy as np"
   ]
  },
  {
   "cell_type": "markdown",
   "metadata": {},
   "source": [
    "Encodings de informação clássica para qubits:\n",
    "\n",
    "1 - Basis encoding\n",
    "\n",
    "2 - Amplitude encoding\n",
    "\n",
    "3 - Phase encoding"
   ]
  },
  {
   "cell_type": "code",
   "execution_count": 19,
   "metadata": {},
   "outputs": [
    {
     "data": {
      "image/png": "[encoded data removed]",
      "text/plain": [
       "<Figure size 203.885x284.278 with 1 Axes>"
      ]
     },
     "execution_count": 19,
     "metadata": {},
     "output_type": "execute_result"
    }
   ],
   "source": [
    "''' Basis enconding '''\n",
    "\n",
    "qc1 = qkt.QuantumCircuit(3) # Cria o circuito quântico com 3 qubits\n",
    "qc1.x(0) # Primeiro qubit vira 1\n",
    "qc1.x(2) # Terceiro qubit vira 1\n",
    "\n",
    "qc1.draw(output='mpl')"
   ]
  },
  {
   "cell_type": "code",
   "execution_count": 22,
   "metadata": {},
   "outputs": [
    {
     "data": {
      "text/html": [
       "<pre style=\"word-wrap: normal;white-space: pre;background: #fff0;line-height: 1.1;font-family: &quot;Courier New&quot;,Courier,monospace\">     ┌─────────────────────────────────────────────┐\n",
       "q_0: ┤0                                            ├\n",
       "     │  Initialize(0.24807,0.49614,0.3721,0.74421) │\n",
       "q_1: ┤1                                            ├\n",
       "     └─────────────────────────────────────────────┘</pre>"
      ],
      "text/plain": [
       "     ┌─────────────────────────────────────────────┐\n",
       "q_0: ┤0                                            ├\n",
       "     │  Initialize(0.24807,0.49614,0.3721,0.74421) │\n",
       "q_1: ┤1                                            ├\n",
       "     └─────────────────────────────────────────────┘"
      ]
     },
     "execution_count": 22,
     "metadata": {},
     "output_type": "execute_result"
    }
   ],
   "source": [
    "''' Amplitude encoding  '''\n",
    "from qiskit.quantum_info import Statevector\n",
    "\n",
    "# Vetor clássico normalizado\n",
    "data = np.array([1, 2, 1.5, 3])\n",
    "\n",
    "# Normalizar os dados\n",
    "data = data / np.linalg.norm(data) # Por que é definida assim?\n",
    "\n",
    "# Cria um estado quântico com os valores do vetor clássico\n",
    "state = Statevector(data)\n",
    "\n",
    "# Cria um circuito quãntico com os dados iniciais codificados sobre as amplitudes\n",
    "qc2 = qkt.QuantumCircuit(2)\n",
    "qc2.initialize(state, [0,1])\n",
    "\n",
    "qc2.draw()"
   ]
  },
  {
   "cell_type": "code",
   "execution_count": null,
   "metadata": {},
   "outputs": [],
   "source": [
    "''' Phase encoding \n",
    "Aprendo depois\n",
    "'''\n"
   ]
  },
  {
   "cell_type": "markdown",
   "metadata": {},
   "source": [
    "Manipulação básica de circuitos quânticos\n",
    "- Uso de compose();\n",
    "- decompose();\n",
    "- to_instruction();\n",
    "- e to_gate()."
   ]
  },
  {
   "cell_type": "code",
   "execution_count": null,
   "metadata": {},
   "outputs": [
    {
     "data": {
      "text/html": [
       "<pre style=\"word-wrap: normal;white-space: pre;background: #fff0;line-height: 1.1;font-family: &quot;Courier New&quot;,Courier,monospace\">     ┌───┐   \n",
       "q_0: ┤ X ├─■─\n",
       "     └───┘ │ \n",
       "q_1: ──────■─\n",
       "             </pre>"
      ],
      "text/plain": [
       "     ┌───┐   \n",
       "q_0: ┤ X ├─■─\n",
       "     └───┘ │ \n",
       "q_1: ──────■─\n",
       "             "
      ]
     },
     "execution_count": 32,
     "metadata": {},
     "output_type": "execute_result"
    }
   ],
   "source": [
    "qc3 = qkt.QuantumCircuit(2)\n",
    "qc3.x(0)\n",
    "qc3.cz(0, 1)\n",
    "\n",
    "qc4 = qkt.QuantumCircuit(2, name='qc_peia')\n",
    "qc4.x(0)\n",
    "qc4.cy(1,0)\n",
    "\n",
    "qc3.draw()"
   ]
  },
  {
   "cell_type": "code",
   "execution_count": 31,
   "metadata": {},
   "outputs": [
    {
     "data": {
      "text/html": [
       "<pre style=\"word-wrap: normal;white-space: pre;background: #fff0;line-height: 1.1;font-family: &quot;Courier New&quot;,Courier,monospace\">     ┌───┐┌───┐\n",
       "q_0: ┤ X ├┤ Y ├\n",
       "     └───┘└─┬─┘\n",
       "q_1: ───────■──\n",
       "               </pre>"
      ],
      "text/plain": [
       "     ┌───┐┌───┐\n",
       "q_0: ┤ X ├┤ Y ├\n",
       "     └───┘└─┬─┘\n",
       "q_1: ───────■──\n",
       "               "
      ]
     },
     "execution_count": 31,
     "metadata": {},
     "output_type": "execute_result"
    }
   ],
   "source": [
    "qc4.draw()"
   ]
  },
  {
   "cell_type": "code",
   "execution_count": null,
   "metadata": {},
   "outputs": [
    {
     "name": "stdout",
     "output_type": "stream",
     "text": [
      "     ┌───┐   ┌───┐┌───┐\n",
      "q_0: ┤ X ├─■─┤ X ├┤ Y ├\n",
      "     └───┘ │ └───┘└─┬─┘\n",
      "q_1: ──────■────────■──\n",
      "                       \n"
     ]
    }
   ],
   "source": [
    "qc_combined = qc3.compose(qc4)\n",
    "print(qc_combined) # Tem como fazer a combinação verticalmente ao invés de horizontalmente?"
   ]
  },
  {
   "cell_type": "code",
   "execution_count": null,
   "metadata": {},
   "outputs": [
    {
     "name": "stdout",
     "output_type": "stream",
     "text": [
      "     ┌───────────┐     ┌───────────┐┌─────┐┌───┐┌───┐\n",
      "q_0: ┤ U3(π,0,π) ├──■──┤ U3(π,0,π) ├┤ Sdg ├┤ X ├┤ S ├\n",
      "     └───┬───┬───┘┌─┴─┐└───┬───┬───┘└─────┘└─┬─┘└───┘\n",
      "q_1: ────┤ H ├────┤ X ├────┤ H ├─────────────■───────\n",
      "         └───┘    └───┘    └───┘                     \n"
     ]
    }
   ],
   "source": [
    "qc_combined_decomp = qc_combined.decompose()\n",
    "print(qc_combined_decomp) # Não entendi esse resultado e como ele é obtido"
   ]
  },
  {
   "cell_type": "code",
   "execution_count": 45,
   "metadata": {},
   "outputs": [
    {
     "name": "stdout",
     "output_type": "stream",
     "text": [
      "     ┌─────────────────────────────────────────────┐┌──────────┐\n",
      "q_0: ┤0                                            ├┤0         ├\n",
      "     │  Initialize(0.24807,0.49614,0.3721,0.74421) ││  qc_peia │\n",
      "q_1: ┤1                                            ├┤1         ├\n",
      "     └─────────────────────────────────────────────┘└──────────┘\n"
     ]
    }
   ],
   "source": [
    "inst = qc4.to_instruction()\n",
    "qc2.append(inst, [0,1])\n",
    "\n",
    "print(qc2)"
   ]
  },
  {
   "cell_type": "code",
   "execution_count": null,
   "metadata": {},
   "outputs": [
    {
     "name": "stdout",
     "output_type": "stream",
     "text": [
      "     ┌─────────────────────────────────────────────┐\n",
      "q_0: ┤0                                            ├\n",
      "     │  Initialize(0.24807,0.49614,0.3721,0.74421) │\n",
      "q_1: ┤1                                            ├\n",
      "     └─────────────────────────────────────────────┘\n"
     ]
    }
   ],
   "source": [
    "qc2.data.pop() # Retira as portas que foram appendadas no circuito quântico\n",
    "print(qc2)"
   ]
  },
  {
   "cell_type": "code",
   "execution_count": 49,
   "metadata": {},
   "outputs": [
    {
     "name": "stdout",
     "output_type": "stream",
     "text": [
      "Instruction(name='circuit-187', num_qubits=2, num_clbits=0, params=[])\n"
     ]
    }
   ],
   "source": [
    "# Define o circuito quântico qc3 como uma nova porta que pode ser reutilizada\n",
    "porta_customizada = qc3.to_gate() \n",
    "print(porta_customizada)"
   ]
  },
  {
   "cell_type": "code",
   "execution_count": 50,
   "metadata": {},
   "outputs": [
    {
     "data": {
      "text/plain": [
       "'Estudar melhor depois os circuitos parametrizados e como utilizá-los '"
      ]
     },
     "execution_count": 50,
     "metadata": {},
     "output_type": "execute_result"
    }
   ],
   "source": [
    "'''Estudar melhor depois os circuitos parametrizados e como utilizá-los '''"
   ]
  }
 ],
 "metadata": {
  "kernelspec": {
   "display_name": ".qml",
   "language": "python",
   "name": "python3"
  },
  "language_info": {
   "codemirror_mode": {
    "name": "ipython",
    "version": 3
   },
   "file_extension": ".py",
   "mimetype": "text/x-python",
   "name": "python",
   "nbconvert_exporter": "python",
   "pygments_lexer": "ipython3",
   "version": "3.12.3"
  }
 },
 "nbformat": 4,
 "nbformat_minor": 2
}
